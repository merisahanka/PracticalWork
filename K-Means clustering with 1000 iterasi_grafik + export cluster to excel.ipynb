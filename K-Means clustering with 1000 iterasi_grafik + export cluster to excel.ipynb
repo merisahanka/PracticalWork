{
 "cells": [
  {
   "cell_type": "markdown",
   "metadata": {
    "colab_type": "text",
    "id": "1lKn8mMBqcKT"
   },
   "source": [
    "![image.png](data:image/png;base64,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)\n",
    "![image.png](data:image/png;base64,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)"
   ]
  },
  {
   "cell_type": "code",
   "execution_count": 78,
   "metadata": {
    "colab": {},
    "colab_type": "code",
    "id": "JXYejSAH0YT6"
   },
   "outputs": [],
   "source": [
    "import numpy as np\n",
    "import pandas as pd\n",
    "\n",
    "from sklearn.cluster import KMeans\n",
    "from sklearn.preprocessing import MinMaxScaler\n",
    "from sklearn.metrics import silhouette_score\n",
    "\n",
    "import matplotlib.pyplot as plt"
   ]
  },
  {
   "cell_type": "code",
   "execution_count": 79,
   "metadata": {
    "colab": {
     "base_uri": "https://localhost:8080/",
     "height": 204
    },
    "colab_type": "code",
    "id": "R1W8qFfL0tht",
    "outputId": "2fc20f20-b867-4260-8595-2f33f7dfb26d"
   },
   "outputs": [
    {
     "data": {
      "text/html": [
       "<div>\n",
       "<style scoped>\n",
       "    .dataframe tbody tr th:only-of-type {\n",
       "        vertical-align: middle;\n",
       "    }\n",
       "\n",
       "    .dataframe tbody tr th {\n",
       "        vertical-align: top;\n",
       "    }\n",
       "\n",
       "    .dataframe thead th {\n",
       "        text-align: right;\n",
       "    }\n",
       "</style>\n",
       "<table border=\"1\" class=\"dataframe\">\n",
       "  <thead>\n",
       "    <tr style=\"text-align: right;\">\n",
       "      <th></th>\n",
       "      <th>Supplier Name</th>\n",
       "      <th>Month</th>\n",
       "      <th>Lot Inspected</th>\n",
       "      <th>NRS A</th>\n",
       "      <th>NRS B</th>\n",
       "      <th>NRS C</th>\n",
       "      <th>QCI A</th>\n",
       "      <th>QCI B</th>\n",
       "      <th>QCI C</th>\n",
       "      <th>SAR</th>\n",
       "      <th>Demerit</th>\n",
       "    </tr>\n",
       "  </thead>\n",
       "  <tbody>\n",
       "    <tr>\n",
       "      <th>0</th>\n",
       "      <td>NaN</td>\n",
       "      <td>NaT</td>\n",
       "      <td>NaN</td>\n",
       "      <td>NaN</td>\n",
       "      <td>NaN</td>\n",
       "      <td>NaN</td>\n",
       "      <td>NaN</td>\n",
       "      <td>NaN</td>\n",
       "      <td>NaN</td>\n",
       "      <td>NaN</td>\n",
       "      <td>NaN</td>\n",
       "    </tr>\n",
       "    <tr>\n",
       "      <th>1</th>\n",
       "      <td>A</td>\n",
       "      <td>2019-04-01</td>\n",
       "      <td>14.0</td>\n",
       "      <td>0.0</td>\n",
       "      <td>0.0</td>\n",
       "      <td>0.0</td>\n",
       "      <td>0.0</td>\n",
       "      <td>0.0</td>\n",
       "      <td>0.0</td>\n",
       "      <td>0.0</td>\n",
       "      <td>0.0</td>\n",
       "    </tr>\n",
       "    <tr>\n",
       "      <th>2</th>\n",
       "      <td>B</td>\n",
       "      <td>2019-04-01</td>\n",
       "      <td>409.0</td>\n",
       "      <td>0.0</td>\n",
       "      <td>0.0</td>\n",
       "      <td>0.0</td>\n",
       "      <td>0.0</td>\n",
       "      <td>0.0</td>\n",
       "      <td>0.0</td>\n",
       "      <td>0.0</td>\n",
       "      <td>0.0</td>\n",
       "    </tr>\n",
       "    <tr>\n",
       "      <th>3</th>\n",
       "      <td>C</td>\n",
       "      <td>2019-04-01</td>\n",
       "      <td>2066.0</td>\n",
       "      <td>0.0</td>\n",
       "      <td>2.0</td>\n",
       "      <td>3.0</td>\n",
       "      <td>1.0</td>\n",
       "      <td>11.0</td>\n",
       "      <td>1.0</td>\n",
       "      <td>0.0</td>\n",
       "      <td>0.0</td>\n",
       "    </tr>\n",
       "    <tr>\n",
       "      <th>4</th>\n",
       "      <td>D</td>\n",
       "      <td>2019-04-01</td>\n",
       "      <td>0.0</td>\n",
       "      <td>0.0</td>\n",
       "      <td>0.0</td>\n",
       "      <td>0.0</td>\n",
       "      <td>0.0</td>\n",
       "      <td>0.0</td>\n",
       "      <td>0.0</td>\n",
       "      <td>0.0</td>\n",
       "      <td>0.0</td>\n",
       "    </tr>\n",
       "  </tbody>\n",
       "</table>\n",
       "</div>"
      ],
      "text/plain": [
       "  Supplier Name      Month  Lot Inspected  NRS A  NRS B  NRS C  QCI A  QCI B  \\\n",
       "0           NaN        NaT            NaN    NaN    NaN    NaN    NaN    NaN   \n",
       "1             A 2019-04-01           14.0    0.0    0.0    0.0    0.0    0.0   \n",
       "2             B 2019-04-01          409.0    0.0    0.0    0.0    0.0    0.0   \n",
       "3             C 2019-04-01         2066.0    0.0    2.0    3.0    1.0   11.0   \n",
       "4             D 2019-04-01            0.0    0.0    0.0    0.0    0.0    0.0   \n",
       "\n",
       "   QCI C  SAR  Demerit  \n",
       "0    NaN  NaN      NaN  \n",
       "1    0.0  0.0      0.0  \n",
       "2    0.0  0.0      0.0  \n",
       "3    1.0  0.0      0.0  \n",
       "4    0.0  0.0      0.0  "
      ]
     },
     "execution_count": 79,
     "metadata": {},
     "output_type": "execute_result"
    }
   ],
   "source": [
    "#Input Data\n",
    "input_data = pd.read_excel(\"Data_SRM.xlsx\")\n",
    "input_data.head()"
   ]
  },
  {
   "cell_type": "markdown",
   "metadata": {
    "colab_type": "text",
    "id": "1ooTIE6U2MIQ"
   },
   "source": [
    "# **DATA PREPROCESSING**"
   ]
  },
  {
   "cell_type": "code",
   "execution_count": 80,
   "metadata": {
    "colab": {
     "base_uri": "https://localhost:8080/",
     "height": 204
    },
    "colab_type": "code",
    "id": "mq55KcUJ1r3K",
    "outputId": "aee5026d-31fe-4fe7-d074-e38370a6a07e"
   },
   "outputs": [
    {
     "data": {
      "text/html": [
       "<div>\n",
       "<style scoped>\n",
       "    .dataframe tbody tr th:only-of-type {\n",
       "        vertical-align: middle;\n",
       "    }\n",
       "\n",
       "    .dataframe tbody tr th {\n",
       "        vertical-align: top;\n",
       "    }\n",
       "\n",
       "    .dataframe thead th {\n",
       "        text-align: right;\n",
       "    }\n",
       "</style>\n",
       "<table border=\"1\" class=\"dataframe\">\n",
       "  <thead>\n",
       "    <tr style=\"text-align: right;\">\n",
       "      <th></th>\n",
       "      <th>Lot Inspected</th>\n",
       "      <th>NRS A</th>\n",
       "      <th>NRS B</th>\n",
       "      <th>NRS C</th>\n",
       "      <th>QCI A</th>\n",
       "      <th>QCI B</th>\n",
       "      <th>QCI C</th>\n",
       "      <th>SAR</th>\n",
       "      <th>Demerit</th>\n",
       "    </tr>\n",
       "  </thead>\n",
       "  <tbody>\n",
       "    <tr>\n",
       "      <th>1</th>\n",
       "      <td>14.0</td>\n",
       "      <td>0.0</td>\n",
       "      <td>0.0</td>\n",
       "      <td>0.0</td>\n",
       "      <td>0.0</td>\n",
       "      <td>0.0</td>\n",
       "      <td>0.0</td>\n",
       "      <td>0.0</td>\n",
       "      <td>0.0</td>\n",
       "    </tr>\n",
       "    <tr>\n",
       "      <th>2</th>\n",
       "      <td>409.0</td>\n",
       "      <td>0.0</td>\n",
       "      <td>0.0</td>\n",
       "      <td>0.0</td>\n",
       "      <td>0.0</td>\n",
       "      <td>0.0</td>\n",
       "      <td>0.0</td>\n",
       "      <td>0.0</td>\n",
       "      <td>0.0</td>\n",
       "    </tr>\n",
       "    <tr>\n",
       "      <th>3</th>\n",
       "      <td>2066.0</td>\n",
       "      <td>0.0</td>\n",
       "      <td>2.0</td>\n",
       "      <td>3.0</td>\n",
       "      <td>1.0</td>\n",
       "      <td>11.0</td>\n",
       "      <td>1.0</td>\n",
       "      <td>0.0</td>\n",
       "      <td>0.0</td>\n",
       "    </tr>\n",
       "    <tr>\n",
       "      <th>4</th>\n",
       "      <td>0.0</td>\n",
       "      <td>0.0</td>\n",
       "      <td>0.0</td>\n",
       "      <td>0.0</td>\n",
       "      <td>0.0</td>\n",
       "      <td>0.0</td>\n",
       "      <td>0.0</td>\n",
       "      <td>0.0</td>\n",
       "      <td>0.0</td>\n",
       "    </tr>\n",
       "    <tr>\n",
       "      <th>5</th>\n",
       "      <td>347.0</td>\n",
       "      <td>0.0</td>\n",
       "      <td>0.0</td>\n",
       "      <td>1.0</td>\n",
       "      <td>0.0</td>\n",
       "      <td>0.0</td>\n",
       "      <td>0.0</td>\n",
       "      <td>0.0</td>\n",
       "      <td>0.0</td>\n",
       "    </tr>\n",
       "  </tbody>\n",
       "</table>\n",
       "</div>"
      ],
      "text/plain": [
       "   Lot Inspected  NRS A  NRS B  NRS C  QCI A  QCI B  QCI C  SAR  Demerit\n",
       "1           14.0    0.0    0.0    0.0    0.0    0.0    0.0  0.0      0.0\n",
       "2          409.0    0.0    0.0    0.0    0.0    0.0    0.0  0.0      0.0\n",
       "3         2066.0    0.0    2.0    3.0    1.0   11.0    1.0  0.0      0.0\n",
       "4            0.0    0.0    0.0    0.0    0.0    0.0    0.0  0.0      0.0\n",
       "5          347.0    0.0    0.0    1.0    0.0    0.0    0.0  0.0      0.0"
      ]
     },
     "execution_count": 80,
     "metadata": {},
     "output_type": "execute_result"
    }
   ],
   "source": [
    "#Filter kolom dan baris yang digunakan\n",
    "x = input_data.drop(['Supplier Name','Month'], axis = 1)\n",
    "x = x.drop(0, axis = 0)\n",
    "x.head()"
   ]
  },
  {
   "cell_type": "code",
   "execution_count": 81,
   "metadata": {
    "colab": {
     "base_uri": "https://localhost:8080/",
     "height": 289
    },
    "colab_type": "code",
    "id": "TgNUg0HS18H4",
    "outputId": "dbf83e5c-6c0e-4807-916b-3c32bd2ce336"
   },
   "outputs": [
    {
     "name": "stdout",
     "output_type": "stream",
     "text": [
      "<class 'pandas.core.frame.DataFrame'>\n",
      "Int64Index: 682 entries, 1 to 682\n",
      "Data columns (total 9 columns):\n",
      " #   Column         Non-Null Count  Dtype  \n",
      "---  ------         --------------  -----  \n",
      " 0   Lot Inspected  682 non-null    float64\n",
      " 1   NRS A          682 non-null    float64\n",
      " 2   NRS B          682 non-null    float64\n",
      " 3   NRS C          682 non-null    float64\n",
      " 4   QCI A          682 non-null    float64\n",
      " 5   QCI B          682 non-null    float64\n",
      " 6   QCI C          682 non-null    float64\n",
      " 7   SAR            682 non-null    float64\n",
      " 8   Demerit        682 non-null    float64\n",
      "dtypes: float64(9)\n",
      "memory usage: 53.3 KB\n"
     ]
    }
   ],
   "source": [
    "#Melihat apakan ada data NaN/missing value\n",
    "x.info()"
   ]
  },
  {
   "cell_type": "code",
   "execution_count": 82,
   "metadata": {
    "colab": {
     "base_uri": "https://localhost:8080/",
     "height": 136
    },
    "colab_type": "code",
    "id": "ZWLrCCZ52VCW",
    "outputId": "99d7f718-4cd1-47a4-9b0f-04637871a24d"
   },
   "outputs": [
    {
     "name": "stdout",
     "output_type": "stream",
     "text": [
      "[[1.400e+01 0.000e+00 0.000e+00 ... 0.000e+00 0.000e+00 0.000e+00]\n",
      " [4.090e+02 0.000e+00 0.000e+00 ... 0.000e+00 0.000e+00 0.000e+00]\n",
      " [2.066e+03 0.000e+00 2.000e+00 ... 1.000e+00 0.000e+00 0.000e+00]\n",
      " ...\n",
      " [2.517e+03 0.000e+00 0.000e+00 ... 1.700e+01 0.000e+00 0.000e+00]\n",
      " [1.104e+03 0.000e+00 0.000e+00 ... 4.000e+00 5.700e+01 1.000e-02]\n",
      " [3.100e+01 0.000e+00 0.000e+00 ... 0.000e+00 0.000e+00 0.000e+00]]\n"
     ]
    }
   ],
   "source": [
    "#Mengubah Data Frame menjadi array\n",
    "x_array = np.array(x)\n",
    "print(x_array)"
   ]
  },
  {
   "cell_type": "code",
   "execution_count": 62,
   "metadata": {
    "colab": {
     "base_uri": "https://localhost:8080/",
     "height": 136
    },
    "colab_type": "code",
    "id": "AGQRLhQj2jCz",
    "outputId": "2fc06b0c-a15f-4653-e7f8-a15626ba1e1d",
    "scrolled": false
   },
   "outputs": [
    {
     "name": "stdout",
     "output_type": "stream",
     "text": [
      "[[0.00406977 0.         0.         ... 0.         0.         0.        ]\n",
      " [0.11889535 0.         0.         ... 0.         0.         0.        ]\n",
      " [0.6005814  0.         0.4        ... 0.05882353 0.         0.        ]\n",
      " ...\n",
      " [0.73168605 0.         0.         ... 1.         0.         0.        ]\n",
      " [0.32093023 0.         0.         ... 0.23529412 0.14652956 0.33333333]\n",
      " [0.00901163 0.         0.         ... 0.         0.         0.        ]]\n"
     ]
    }
   ],
   "source": [
    "#Scaling dataset with MinMax (Normalisasi)\n",
    "scaler = MinMaxScaler()\n",
    "x_scaled = scaler.fit_transform(x_array)\n",
    "print(x_scaled)"
   ]
  },
  {
   "cell_type": "code",
   "execution_count": 83,
   "metadata": {},
   "outputs": [
    {
     "data": {
      "text/html": [
       "<div>\n",
       "<style scoped>\n",
       "    .dataframe tbody tr th:only-of-type {\n",
       "        vertical-align: middle;\n",
       "    }\n",
       "\n",
       "    .dataframe tbody tr th {\n",
       "        vertical-align: top;\n",
       "    }\n",
       "\n",
       "    .dataframe thead th {\n",
       "        text-align: right;\n",
       "    }\n",
       "</style>\n",
       "<table border=\"1\" class=\"dataframe\">\n",
       "  <thead>\n",
       "    <tr style=\"text-align: right;\">\n",
       "      <th></th>\n",
       "      <th>Lot Inspected</th>\n",
       "      <th>NRS A</th>\n",
       "      <th>NRS B</th>\n",
       "      <th>NRS C</th>\n",
       "      <th>QCI A</th>\n",
       "      <th>QCI B</th>\n",
       "      <th>QCI C</th>\n",
       "      <th>SAR</th>\n",
       "      <th>Demerit</th>\n",
       "    </tr>\n",
       "  </thead>\n",
       "  <tbody>\n",
       "    <tr>\n",
       "      <th>0</th>\n",
       "      <td>0.004070</td>\n",
       "      <td>0.0</td>\n",
       "      <td>0.0</td>\n",
       "      <td>0.000</td>\n",
       "      <td>0.000000</td>\n",
       "      <td>0.000000</td>\n",
       "      <td>0.000000</td>\n",
       "      <td>0.0</td>\n",
       "      <td>0.0</td>\n",
       "    </tr>\n",
       "    <tr>\n",
       "      <th>1</th>\n",
       "      <td>0.118895</td>\n",
       "      <td>0.0</td>\n",
       "      <td>0.0</td>\n",
       "      <td>0.000</td>\n",
       "      <td>0.000000</td>\n",
       "      <td>0.000000</td>\n",
       "      <td>0.000000</td>\n",
       "      <td>0.0</td>\n",
       "      <td>0.0</td>\n",
       "    </tr>\n",
       "    <tr>\n",
       "      <th>2</th>\n",
       "      <td>0.600581</td>\n",
       "      <td>0.0</td>\n",
       "      <td>0.4</td>\n",
       "      <td>0.375</td>\n",
       "      <td>0.166667</td>\n",
       "      <td>0.423077</td>\n",
       "      <td>0.058824</td>\n",
       "      <td>0.0</td>\n",
       "      <td>0.0</td>\n",
       "    </tr>\n",
       "    <tr>\n",
       "      <th>3</th>\n",
       "      <td>0.000000</td>\n",
       "      <td>0.0</td>\n",
       "      <td>0.0</td>\n",
       "      <td>0.000</td>\n",
       "      <td>0.000000</td>\n",
       "      <td>0.000000</td>\n",
       "      <td>0.000000</td>\n",
       "      <td>0.0</td>\n",
       "      <td>0.0</td>\n",
       "    </tr>\n",
       "    <tr>\n",
       "      <th>4</th>\n",
       "      <td>0.100872</td>\n",
       "      <td>0.0</td>\n",
       "      <td>0.0</td>\n",
       "      <td>0.125</td>\n",
       "      <td>0.000000</td>\n",
       "      <td>0.000000</td>\n",
       "      <td>0.000000</td>\n",
       "      <td>0.0</td>\n",
       "      <td>0.0</td>\n",
       "    </tr>\n",
       "  </tbody>\n",
       "</table>\n",
       "</div>"
      ],
      "text/plain": [
       "   Lot Inspected  NRS A  NRS B  NRS C     QCI A     QCI B     QCI C  SAR  \\\n",
       "0       0.004070    0.0    0.0  0.000  0.000000  0.000000  0.000000  0.0   \n",
       "1       0.118895    0.0    0.0  0.000  0.000000  0.000000  0.000000  0.0   \n",
       "2       0.600581    0.0    0.4  0.375  0.166667  0.423077  0.058824  0.0   \n",
       "3       0.000000    0.0    0.0  0.000  0.000000  0.000000  0.000000  0.0   \n",
       "4       0.100872    0.0    0.0  0.125  0.000000  0.000000  0.000000  0.0   \n",
       "\n",
       "   Demerit  \n",
       "0      0.0  \n",
       "1      0.0  \n",
       "2      0.0  \n",
       "3      0.0  \n",
       "4      0.0  "
      ]
     },
     "execution_count": 83,
     "metadata": {},
     "output_type": "execute_result"
    }
   ],
   "source": [
    "#Array menjadi Data Frame\n",
    "MinMax = pd.DataFrame(x_scaled,columns = ['Lot Inspected','NRS A','NRS B','NRS C',\n",
    "                                          'QCI A', 'QCI B','QCI C','SAR','Demerit'])\n",
    "MinMax.head()"
   ]
  },
  {
   "cell_type": "markdown",
   "metadata": {
    "colab_type": "text",
    "id": "MG5QwDcl2yRv"
   },
   "source": [
    "# **DATA PROCESSING**"
   ]
  },
  {
   "cell_type": "markdown",
   "metadata": {
    "colab_type": "text",
    "id": "aPjhAyyM3FG3"
   },
   "source": [
    "Evaluating with the Elbow Method and Silhouette Index to determine the optimal n cluster (k)"
   ]
  },
  {
   "cell_type": "code",
   "execution_count": 84,
   "metadata": {
    "colab": {
     "base_uri": "https://localhost:8080/",
     "height": 34
    },
    "colab_type": "code",
    "id": "T692kDVm3B9l",
    "outputId": "a059f4ff-06fc-4916-c8dd-eb49c29be9db"
   },
   "outputs": [
    {
     "name": "stdout",
     "output_type": "stream",
     "text": [
      "{2: 66.0303590972852, 3: 41.223189701799654, 4: 34.023351969848676, 5: 29.564802481450393, 6: 25.962040881127546, 7: 23.16895104165351, 8: 20.592124291704163, 9: 18.71216413484786, 10: 17.751856174841677}\n"
     ]
    }
   ],
   "source": [
    "#Elbow Method\n",
    "#(menggunakan SSE, k yang digunakan yaitu nilai sse yang memiliki selisih signifikan dari k sebelumnya dan membentuk elbow)\n",
    "\n",
    "sse = {}\n",
    "for k in range(2,11):\n",
    "    kmeans = KMeans(n_clusters=k, max_iter=1000).fit(x_scaled)\n",
    "    sse[k] = kmeans.inertia_\n",
    "\n",
    "print(sse)"
   ]
  },
  {
   "cell_type": "code",
   "execution_count": 85,
   "metadata": {
    "colab": {
     "base_uri": "https://localhost:8080/",
     "height": 279
    },
    "colab_type": "code",
    "id": "15g_VYmm3tGy",
    "outputId": "dbb3ca86-0570-494d-f68d-4fb67ec9ce0c"
   },
   "outputs": [
    {
     "data": {
      "image/png": "[encoded data removed]",
      "text/plain": [
       "<Figure size 432x288 with 1 Axes>"
      ]
     },
     "metadata": {
      "needs_background": "light"
     },
     "output_type": "display_data"
    }
   ],
   "source": [
    "#Plot figure untuk melihat dengan jelas perbedaan signifikan sse dari setiap k\n",
    "plt.figure()\n",
    "plt.plot(list(sse.keys()), list(sse.values()))\n",
    "plt.xlabel(\"Number of cluster\")\n",
    "plt.ylabel(\"SSE\")\n",
    "plt.show()"
   ]
  },
  {
   "cell_type": "code",
   "execution_count": 86,
   "metadata": {
    "colab": {
     "base_uri": "https://localhost:8080/",
     "height": 296
    },
    "colab_type": "code",
    "id": "VjKEGNah396h",
    "outputId": "cc8db51c-6dca-49e5-ae5b-3185b949ac4e",
    "scrolled": false
   },
   "outputs": [
    {
     "name": "stdout",
     "output_type": "stream",
     "text": [
      "[0.7529024625347353, 0.7826927621532846, 0.7887233888440417, 0.7487613833208268, 0.766299795525459, 0.7684648978382761, 0.765777339809261, 0.6764226149113013, 0.6816322844502319]\n"
     ]
    },
    {
     "data": {
      "image/png": "[encoded data removed]",
      "text/plain": [
       "<Figure size 432x288 with 1 Axes>"
      ]
     },
     "metadata": {
      "needs_background": "light"
     },
     "output_type": "display_data"
    }
   ],
   "source": [
    "#Silhoutte Index (Semakin mendekati nilai 1, silhouette index semakin baik)\n",
    "\n",
    "silhouette_scores = []\n",
    "\n",
    "for k in range(2,11):\n",
    "    silhouette_scores.append(\n",
    "        silhouette_score(x_scaled, KMeans(n_clusters=k, max_iter=1000).fit_predict(x_scaled)))\n",
    "k=[2,3,4,5,6,7,8,9,10]\n",
    "print(silhouette_scores)\n",
    "plt.bar(k,silhouette_scores)\n",
    "plt.xlabel('Number of clusters', fontsize = 10)\n",
    "plt.ylabel('Silhoutte Score', fontsize = 10)\n",
    "plt.show()"
   ]
  },
  {
   "cell_type": "markdown",
   "metadata": {
    "colab_type": "text",
    "id": "3-SsHSQR4dFQ"
   },
   "source": [
    "# **K-MEANS CLUSTERING**\n",
    "From the two evaluations above, it can be seen that the optimal number of clusters using k-means = 3\n",
    "\n",
    "K-Means Clustering is a data analysis method or Data Mining method that performs data grouping using a partition system. There are 3 types of data clustering that are often used in the data grouping process, namely Hierarchical, Non-Hierarchical, and Density-based. K-Means is a non-hierarchical data clustering method or can be referred to as Partitional Clustering."
   ]
  },
  {
   "cell_type": "code",
   "execution_count": 87,
   "metadata": {
    "colab": {
     "base_uri": "https://localhost:8080/",
     "height": 119
    },
    "colab_type": "code",
    "id": "qt2p02Se4YgE",
    "outputId": "88f710d5-c69b-493a-ccfe-48b4bc872531"
   },
   "outputs": [
    {
     "data": {
      "text/html": [
       "<div>\n",
       "<style scoped>\n",
       "    .dataframe tbody tr th:only-of-type {\n",
       "        vertical-align: middle;\n",
       "    }\n",
       "\n",
       "    .dataframe tbody tr th {\n",
       "        vertical-align: top;\n",
       "    }\n",
       "\n",
       "    .dataframe thead th {\n",
       "        text-align: right;\n",
       "    }\n",
       "</style>\n",
       "<table border=\"1\" class=\"dataframe\">\n",
       "  <thead>\n",
       "    <tr style=\"text-align: right;\">\n",
       "      <th></th>\n",
       "      <th>Lot Inspected</th>\n",
       "      <th>NRS A</th>\n",
       "      <th>NRS B</th>\n",
       "      <th>NRS C</th>\n",
       "      <th>QCI A</th>\n",
       "      <th>QCI B</th>\n",
       "      <th>QCI C</th>\n",
       "      <th>SAR</th>\n",
       "      <th>Demerit</th>\n",
       "    </tr>\n",
       "  </thead>\n",
       "  <tbody>\n",
       "    <tr>\n",
       "      <th>0</th>\n",
       "      <td>0.036134</td>\n",
       "      <td>1.301043e-18</td>\n",
       "      <td>0.015514</td>\n",
       "      <td>0.018971</td>\n",
       "      <td>0.002248</td>\n",
       "      <td>0.006486</td>\n",
       "      <td>0.017062</td>\n",
       "      <td>0.003386</td>\n",
       "      <td>0.002248</td>\n",
       "    </tr>\n",
       "    <tr>\n",
       "      <th>1</th>\n",
       "      <td>0.079892</td>\n",
       "      <td>2.857143e-02</td>\n",
       "      <td>0.028571</td>\n",
       "      <td>0.021429</td>\n",
       "      <td>0.004762</td>\n",
       "      <td>0.031868</td>\n",
       "      <td>0.067227</td>\n",
       "      <td>0.005876</td>\n",
       "      <td>0.923810</td>\n",
       "    </tr>\n",
       "    <tr>\n",
       "      <th>2</th>\n",
       "      <td>0.518196</td>\n",
       "      <td>4.336809e-19</td>\n",
       "      <td>0.114815</td>\n",
       "      <td>0.171296</td>\n",
       "      <td>0.123457</td>\n",
       "      <td>0.260684</td>\n",
       "      <td>0.253813</td>\n",
       "      <td>0.319480</td>\n",
       "      <td>0.024691</td>\n",
       "    </tr>\n",
       "  </tbody>\n",
       "</table>\n",
       "</div>"
      ],
      "text/plain": [
       "   Lot Inspected         NRS A     NRS B     NRS C     QCI A     QCI B  \\\n",
       "0       0.036134  1.301043e-18  0.015514  0.018971  0.002248  0.006486   \n",
       "1       0.079892  2.857143e-02  0.028571  0.021429  0.004762  0.031868   \n",
       "2       0.518196  4.336809e-19  0.114815  0.171296  0.123457  0.260684   \n",
       "\n",
       "      QCI C       SAR   Demerit  \n",
       "0  0.017062  0.003386  0.002248  \n",
       "1  0.067227  0.005876  0.923810  \n",
       "2  0.253813  0.319480  0.024691  "
      ]
     },
     "execution_count": 87,
     "metadata": {},
     "output_type": "execute_result"
    }
   ],
   "source": [
    "#K-Means Clustering\n",
    "\n",
    "kmeans = KMeans(n_clusters = 3,init='k-means++',n_init=10,max_iter=1000)\n",
    "kmeans.fit(x_scaled)\n",
    "yt_kmeans = kmeans.predict(x_scaled)\n",
    "centers = kmeans.cluster_centers_\n",
    "pd.DataFrame(centers, columns = \n",
    "                  ['Lot Inspected','NRS A','NRS B','NRS C','QCI A', \n",
    "                   'QCI B','QCI C','SAR','Demerit'])"
   ]
  },
  {
   "cell_type": "code",
   "execution_count": 68,
   "metadata": {
    "colab": {
     "base_uri": "https://localhost:8080/",
     "height": 204
    },
    "colab_type": "code",
    "id": "ug97-zyh4ygb",
    "outputId": "8b7cdb94-40f2-40df-b4b2-f91793579457"
   },
   "outputs": [
    {
     "data": {
      "text/html": [
       "<div>\n",
       "<style scoped>\n",
       "    .dataframe tbody tr th:only-of-type {\n",
       "        vertical-align: middle;\n",
       "    }\n",
       "\n",
       "    .dataframe tbody tr th {\n",
       "        vertical-align: top;\n",
       "    }\n",
       "\n",
       "    .dataframe thead th {\n",
       "        text-align: right;\n",
       "    }\n",
       "</style>\n",
       "<table border=\"1\" class=\"dataframe\">\n",
       "  <thead>\n",
       "    <tr style=\"text-align: right;\">\n",
       "      <th></th>\n",
       "      <th>Supplier Name</th>\n",
       "      <th>Month</th>\n",
       "      <th>Lot Inspected</th>\n",
       "      <th>NRS A</th>\n",
       "      <th>NRS B</th>\n",
       "      <th>NRS C</th>\n",
       "      <th>QCI A</th>\n",
       "      <th>QCI B</th>\n",
       "      <th>QCI C</th>\n",
       "      <th>SAR</th>\n",
       "      <th>Demerit</th>\n",
       "      <th>Kluster</th>\n",
       "    </tr>\n",
       "  </thead>\n",
       "  <tbody>\n",
       "    <tr>\n",
       "      <th>1</th>\n",
       "      <td>A</td>\n",
       "      <td>2019-04-01</td>\n",
       "      <td>14.0</td>\n",
       "      <td>0.0</td>\n",
       "      <td>0.0</td>\n",
       "      <td>0.0</td>\n",
       "      <td>0.0</td>\n",
       "      <td>0.0</td>\n",
       "      <td>0.0</td>\n",
       "      <td>0.0</td>\n",
       "      <td>0.0</td>\n",
       "      <td>0</td>\n",
       "    </tr>\n",
       "    <tr>\n",
       "      <th>2</th>\n",
       "      <td>B</td>\n",
       "      <td>2019-04-01</td>\n",
       "      <td>409.0</td>\n",
       "      <td>0.0</td>\n",
       "      <td>0.0</td>\n",
       "      <td>0.0</td>\n",
       "      <td>0.0</td>\n",
       "      <td>0.0</td>\n",
       "      <td>0.0</td>\n",
       "      <td>0.0</td>\n",
       "      <td>0.0</td>\n",
       "      <td>0</td>\n",
       "    </tr>\n",
       "    <tr>\n",
       "      <th>3</th>\n",
       "      <td>C</td>\n",
       "      <td>2019-04-01</td>\n",
       "      <td>2066.0</td>\n",
       "      <td>0.0</td>\n",
       "      <td>2.0</td>\n",
       "      <td>3.0</td>\n",
       "      <td>1.0</td>\n",
       "      <td>11.0</td>\n",
       "      <td>1.0</td>\n",
       "      <td>0.0</td>\n",
       "      <td>0.0</td>\n",
       "      <td>1</td>\n",
       "    </tr>\n",
       "    <tr>\n",
       "      <th>4</th>\n",
       "      <td>D</td>\n",
       "      <td>2019-04-01</td>\n",
       "      <td>0.0</td>\n",
       "      <td>0.0</td>\n",
       "      <td>0.0</td>\n",
       "      <td>0.0</td>\n",
       "      <td>0.0</td>\n",
       "      <td>0.0</td>\n",
       "      <td>0.0</td>\n",
       "      <td>0.0</td>\n",
       "      <td>0.0</td>\n",
       "      <td>0</td>\n",
       "    </tr>\n",
       "    <tr>\n",
       "      <th>5</th>\n",
       "      <td>E</td>\n",
       "      <td>2019-04-01</td>\n",
       "      <td>347.0</td>\n",
       "      <td>0.0</td>\n",
       "      <td>0.0</td>\n",
       "      <td>1.0</td>\n",
       "      <td>0.0</td>\n",
       "      <td>0.0</td>\n",
       "      <td>0.0</td>\n",
       "      <td>0.0</td>\n",
       "      <td>0.0</td>\n",
       "      <td>0</td>\n",
       "    </tr>\n",
       "  </tbody>\n",
       "</table>\n",
       "</div>"
      ],
      "text/plain": [
       "  Supplier Name      Month  Lot Inspected  NRS A  NRS B  NRS C  QCI A  QCI B  \\\n",
       "1             A 2019-04-01           14.0    0.0    0.0    0.0    0.0    0.0   \n",
       "2             B 2019-04-01          409.0    0.0    0.0    0.0    0.0    0.0   \n",
       "3             C 2019-04-01         2066.0    0.0    2.0    3.0    1.0   11.0   \n",
       "4             D 2019-04-01            0.0    0.0    0.0    0.0    0.0    0.0   \n",
       "5             E 2019-04-01          347.0    0.0    0.0    1.0    0.0    0.0   \n",
       "\n",
       "   QCI C  SAR  Demerit  Kluster  \n",
       "1    0.0  0.0      0.0        0  \n",
       "2    0.0  0.0      0.0        0  \n",
       "3    1.0  0.0      0.0        1  \n",
       "4    0.0  0.0      0.0        0  \n",
       "5    0.0  0.0      0.0        0  "
      ]
     },
     "execution_count": 68,
     "metadata": {},
     "output_type": "execute_result"
    }
   ],
   "source": [
    "# Menambahkan kolom baru yaitu label kluster pada tabel awal\n",
    "\n",
    "y = input_data.drop(0, axis = 0)\n",
    "y[\"Kluster\"]=kmeans.labels_\n",
    "y.head()"
   ]
  },
  {
   "cell_type": "code",
   "execution_count": 88,
   "metadata": {
    "colab": {},
    "colab_type": "code",
    "id": "39m4g3N55BLF"
   },
   "outputs": [],
   "source": [
    "# Export hasil cluster menjadi Excel\n",
    "\n",
    "y.to_excel(\"Hasil Kluster.xlsx\", index = False)"
   ]
  },
  {
   "cell_type": "code",
   "execution_count": null,
   "metadata": {},
   "outputs": [],
   "source": []
  }
 ],
 "metadata": {
  "colab": {
   "collapsed_sections": [],
   "name": "Week 6 - Studi kasus KP SRM PT.X dengan Kmeans Clustering.ipynb",
   "provenance": []
  },
  "kernelspec": {
   "display_name": "Python 3",
   "language": "python",
   "name": "python3"
  },
  "language_info": {
   "codemirror_mode": {
    "name": "ipython",
    "version": 3
   },
   "file_extension": ".py",
   "mimetype": "text/x-python",
   "name": "python",
   "nbconvert_exporter": "python",
   "pygments_lexer": "ipython3",
   "version": "3.8.3"
  }
 },
 "nbformat": 4,
 "nbformat_minor": 1
}
